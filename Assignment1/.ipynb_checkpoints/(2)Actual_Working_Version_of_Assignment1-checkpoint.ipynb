{
 "cells": [
  {
   "cell_type": "markdown",
   "metadata": {
    "id": "1q23mZ1A4nGZ"
   },
   "source": [
    "# **Problem 1**"
   ]
  },
  {
   "cell_type": "markdown",
   "metadata": {
    "id": "8Tf6EB6z4uaI"
   },
   "source": [
    "## 0. Importing and understanding the dataset"
   ]
  },
  {
   "cell_type": "code",
   "execution_count": null,
   "metadata": {
    "id": "bAUtUSRW3aQ_"
   },
   "outputs": [],
   "source": [
    "from sklearn import datasets\n",
    "import numpy as np\n",
    "import matplotlib.pyplot as plt\n",
    "\n",
    "np.random.seed(0)"
   ]
  },
  {
   "cell_type": "code",
   "execution_count": null,
   "metadata": {
    "colab": {
     "base_uri": "https://localhost:8080/"
    },
    "id": "c3CRn3Mf3Yzx",
    "outputId": "f43e595f-4496-411b-9b50-36f0447aa44e"
   },
   "outputs": [
    {
     "name": "stdout",
     "output_type": "stream",
     "text": [
      "dict_keys(['data', 'target', 'target_names', 'DESCR', 'feature_names', 'filename'])\n",
      "(569, 30)\n"
     ]
    }
   ],
   "source": [
    "data = datasets.load_breast_cancer()\n",
    "print(data.keys()) \n",
    "# ['data', 'target', 'target_names', 'DESCR', 'feature_names', 'filename']\n",
    "# 'data': feature data to determine how to classify the sample, given in np array\n",
    "# 'target': target data (ie: is the tumor malignant or benign), given in np array\n",
    "# 'feature_names': names of the columns in data\n",
    "# 'target_names': names of the target columns\n",
    "\n",
    "training_set = data.data\n",
    "print(training_set.shape) # (569, 30)"
   ]
  },
  {
   "cell_type": "markdown",
   "metadata": {
    "id": "eGaBh7j64zQc"
   },
   "source": [
    "## 1. Implement k-means\n",
    "- Input: array containing dataset, value of k\n",
    "- Output: cluster centroids, cluster assignment for each data point"
   ]
  },
  {
   "cell_type": "code",
   "execution_count": null,
   "metadata": {
    "id": "PuXF0fmI5Qtc"
   },
   "outputs": [],
   "source": [
    "def initialize_centroids(training_set, m, k):\n",
    "    # pick k cluster centroids randomly in the training set\n",
    "    # return a 1xk array where each element is at most 569 (aka training_set.shape[0])\n",
    "    # don't allow the same value to be picked multiple times (ie: replace = False)\n",
    "\n",
    "    random_row_indices = np.random.choice(np.shape(training_set)[0], k, replace=False)\n",
    "    centroids = training_set[random_row_indices, :]\n",
    "    return centroids\n",
    "\n",
    "def distance(x, u, m, k):\n",
    "    # squared norm error between a data point x(i) and a centroid u(k)\n",
    "    # ||x(i) - u(k)||^2 = (sqrt((x1(i) - u1(k))^2 + (x2(i) - u2(k))^2 + ...))^2 \n",
    "    #                   = (x1(i) - u1(k))^2 + (x2(i) - u2(k))^2 + ...\n",
    "    distance = np.zeros((m, k))\n",
    "    for i in range(m):\n",
    "        for j in range(k):\n",
    "            distance[i][j] = (np.linalg.norm(x[i] - u[j]))**2 # distance from point x(i) to centroid u(k)\n",
    "\n",
    "    return distance\n",
    "\n",
    "def centroid_assignment(distances):\n",
    "    # based on the squared norm distance from x(i) to u(i), determine which cluster with index k the point x(i) should belong to\n",
    "    # find the min. distance for each point (ie: find the min element in a row of the array)\n",
    "\n",
    "    c = np.empty(distances.shape[0], dtype=np.int8)\n",
    "\n",
    "    for i in range(distances.shape[0]):\n",
    "        smallest_error = np.min(distances[i])\n",
    "        smallest_error_index = np.argwhere(distances[i] == smallest_error)[0][0]\n",
    "        c[i] = smallest_error_index\n",
    "        \n",
    "    return c\n",
    "\n",
    "def move_centroids(centroids, c, training_set, k):\n",
    "    # find all training data indices i for which c[i] is the same (i.e.: the value is k) -> np.argwhere()\n",
    "    # average the values of x[i]\n",
    "    # assign the value to centroid[k]\n",
    "\n",
    "    old_centroids = centroids\n",
    "\n",
    "    for j in range(k):\n",
    "        same_centroid = np.argwhere(c == j)\n",
    "        centroids[j] = np.mean(training_set[same_centroid], axis=0)\n",
    "\n",
    "    return centroids, old_centroids\n",
    "\n",
    "def should_stop(old_centroids, new_centroids):\n",
    "    # stop if the old cluster centroid assignments are the same as the new cluster centroid assignments\n",
    "    if (old_centroids == new_centroids).all():\n",
    "        return True\n",
    "    else:\n",
    "        return False"
   ]
  },
  {
   "cell_type": "code",
   "execution_count": null,
   "metadata": {
    "id": "1rlyCyDXXo79"
   },
   "outputs": [],
   "source": [
    "def k_means(training_set, k):\n",
    "    m = training_set.shape[0]\n",
    "\n",
    "    # initialize cluster centroids\n",
    "    centroids = initialize_centroids(training_set, m, k)\n",
    "\n",
    "    old_centroids = np.empty(centroids.shape)\n",
    "    c = np.empty(m)\n",
    "\n",
    "    while not should_stop(old_centroids, centroids): # if no centroid position changed, then the algorithm is complete\n",
    "        \n",
    "        # find the squared norm distance between each data point in the training set and all cluster centroids\n",
    "        distances = distance(training_set, centroids, m, k)\n",
    "\n",
    "        # cluster assignment\n",
    "        c = centroid_assignment(distances)\n",
    "\n",
    "        # move centroids\n",
    "        centroids, old_centroids = move_centroids(centroids, c, training_set, k)\n",
    "\n",
    "    return centroids, c"
   ]
  },
  {
   "cell_type": "code",
   "execution_count": null,
   "metadata": {
    "colab": {
     "base_uri": "https://localhost:8080/"
    },
    "id": "dcN2sUedBAmd",
    "outputId": "a56a64b2-a729-41cc-ec44-24b2a088054d"
   },
   "outputs": [
    {
     "name": "stdout",
     "output_type": "stream",
     "text": [
      "[[0.51395974 0.31910613]\n",
      " [0.35828326 0.6572699 ]]\n",
      "[0 0 0 1 0 1 0 0 1 0]\n"
     ]
    }
   ],
   "source": [
    "# sanity check to make sure that my k_means implementation returns a result on a trivial dataset\n",
    "test_training_set = np.random.random((10, 2))\n",
    "centroids, cluster_assignment = k_means(test_training_set, 2)\n",
    "print(centroids)\n",
    "print(cluster_assignment)"
   ]
  },
  {
   "cell_type": "markdown",
   "metadata": {
    "id": "hBtnZTvYgytI"
   },
   "source": [
    "## 2. Run k-means algorithm for k varying between 2 and 7"
   ]
  },
  {
   "cell_type": "markdown",
   "metadata": {
    "id": "5nOfM2_5z36A"
   },
   "source": [
    "Explanation of `k_means` function inputs:\n",
    "\n",
    "The `training_set` (`sklearn.datasets.load_breast_cancer().data`) input variable is a 569 x 30 NumPy array containing feature data that describes the characteristics of the cell nuclei. Note that the `sklearn.datasets.load_breast_cancer().target` data is not needed because K-means is an unsupervised algorithm, which means it does not use the dataset's labels. \n",
    "\n",
    "`K` is the number of cluster centroids that the K-Means algorithm should form around the points in the input dataset."
   ]
  },
  {
   "cell_type": "code",
   "execution_count": null,
   "metadata": {
    "colab": {
     "base_uri": "https://localhost:8080/"
    },
    "id": "CL--RjUngyOw",
    "outputId": "9e0d3de8-7dca-4abd-a1a9-c3e36ce1c9f9"
   },
   "outputs": [
    {
     "name": "stdout",
     "output_type": "stream",
     "text": [
      "When k = 2, the centroids are:\n",
      "[[1.89859459e+01 2.15460135e+01 1.25502297e+02 1.14061284e+03\n",
      "  1.01245135e-01 1.45399459e-01 1.70479932e-01 9.67657432e-02\n",
      "  1.90739865e-01 6.06500000e-02 7.05208108e-01 1.21497500e+00\n",
      "  4.98308784e+00 8.94862162e+01 6.65131081e-03 3.16438919e-02\n",
      "  4.18221622e-02 1.53940405e-02 1.99462162e-02 3.91413514e-03\n",
      "  2.31610811e+01 2.89006757e+01 1.54685811e+02 1.67810811e+03\n",
      "  1.40635676e-01 3.53565946e-01 4.40403378e-01 1.87536351e-01\n",
      "  3.12986486e-01 8.61887838e-02]\n",
      " [1.24192613e+01 1.84964371e+01 8.01806176e+01 4.84135867e+02\n",
      "  9.46430404e-02 8.99071259e-02 6.00849898e-02 3.20989644e-02\n",
      "  1.77794774e-01 6.35525891e-02 2.99696200e-01 1.21751378e+00\n",
      "  2.12183064e+00 2.30589976e+01 7.17796437e-03 2.33106057e-02\n",
      "  2.84034314e-02 1.05313159e-02 2.07518480e-02 3.75298884e-03\n",
      "  1.38463872e+01 2.45440380e+01 9.05893824e+01 6.00218052e+02\n",
      "  1.29462352e-01 2.19356413e-01 2.13053556e-01 8.89680784e-02\n",
      "  2.82021378e-01 8.31573159e-02]]\n",
      "\n",
      "and the cluster assignments are:\n",
      "[0 0 0 1 0 1 0 1 1 1 0 0 0 1 1 1 0 0 0 1 1 1 1 0 0 0 1 0 0 0 0 1 0 0 0 0 1\n",
      " 1 1 1 1 1 0 1 1 0 1 1 1 1 1 1 1 0 1 1 0 1 1 1 1 1 1 1 1 1 1 1 1 1 0 1 0 1\n",
      " 1 0 1 0 0 1 1 1 0 0 1 0 1 0 1 1 1 1 1 1 1 0 1 1 1 1 1 1 1 1 1 1 1 1 0 1 1\n",
      " 1 1 1 1 1 1 0 0 0 1 0 0 1 1 1 1 0 1 0 1 0 0 1 0 1 1 1 1 1 1 0 1 1 1 1 1 1\n",
      " 1 1 1 1 1 1 1 1 0 0 1 1 1 0 0 1 0 1 1 0 0 1 1 1 0 1 1 1 1 1 1 1 0 0 0 1 1\n",
      " 1 0 1 1 1 1 1 1 1 1 1 1 0 0 1 1 0 0 0 1 1 1 0 1 1 0 1 0 0 1 1 1 1 0 0 1 1\n",
      " 1 0 1 1 1 1 1 1 0 1 1 0 1 1 0 0 1 0 1 1 1 1 0 1 1 1 1 1 0 1 0 0 0 1 0 1 0\n",
      " 1 0 0 0 1 0 0 1 1 1 1 1 1 0 1 0 1 1 0 1 1 0 1 0 0 1 1 1 1 1 1 1 1 1 1 1 1\n",
      " 1 1 1 1 0 1 0 1 1 1 1 1 1 1 1 1 1 1 1 1 1 0 1 1 1 0 1 0 1 1 1 1 0 1 0 1 1\n",
      " 1 1 0 1 0 1 0 1 1 1 0 1 1 1 1 1 1 1 1 0 1 1 1 1 1 1 1 1 1 1 0 1 0 0 1 0 0\n",
      " 0 1 0 0 1 1 1 1 1 1 1 1 1 1 1 1 1 1 1 0 1 1 0 0 1 1 1 1 1 1 0 1 1 1 1 1 1\n",
      " 1 0 1 1 1 1 1 1 1 1 0 1 1 1 1 1 1 1 1 1 1 1 1 1 1 0 0 1 1 1 1 1 1 1 0 1 1\n",
      " 0 1 0 1 1 0 1 0 1 1 1 1 1 1 1 1 0 0 1 1 1 1 1 1 0 1 1 1 1 1 1 1 1 1 1 1 1\n",
      " 1 1 1 1 1 1 0 1 0 1 0 0 1 1 1 1 1 0 0 1 1 1 0 1 1 1 1 1 1 1 1 1 1 1 1 0 0\n",
      " 1 1 1 0 1 1 1 1 1 1 1 1 1 1 1 0 1 0 1 1 1 1 1 1 1 1 1 1 1 1 1 1 1 1 1 1 1\n",
      " 1 1 1 1 1 1 1 1 0 0 0 0 0 1]\n",
      "\n",
      "\n",
      "When k = 3, the centroids are:\n",
      "[[1.17152633e+01 1.81300000e+01 7.52889028e+01 4.27502508e+02\n",
      "  9.39817241e-02 8.18790596e-02 4.75936072e-02 2.53882665e-02\n",
      "  1.76554859e-01 6.39244514e-02 2.79905956e-01 1.25721724e+00\n",
      "  1.97051630e+00 2.00475799e+01 7.49016301e-03 2.19314357e-02\n",
      "  2.64696445e-02 9.83015047e-03 2.12141379e-02 3.75071317e-03\n",
      "  1.29397147e+01 2.39668025e+01 8.41409404e+01 5.19312853e+02\n",
      "  1.28490502e-01 1.93971661e-01 1.76006981e-01 7.51075893e-02\n",
      "  2.77318809e-01 8.20353918e-02]\n",
      " [1.45576923e+01 1.93876923e+01 9.48471154e+01 6.53240385e+02\n",
      "  9.28640385e-02 1.07832500e-01 8.54853846e-02 4.60589808e-02\n",
      "  1.77211538e-01 6.12011538e-02 3.31563462e-01 1.18217692e+00\n",
      "  2.46590385e+00 2.91455769e+01 6.34467308e-03 2.89542500e-02\n",
      "  3.44758269e-02 1.28386731e-02 1.98763846e-02 3.98890385e-03\n",
      "  1.60438462e+01 2.55634615e+01 1.06580192e+02 7.86590385e+02\n",
      "  1.24201538e-01 2.62380000e-01 2.70570385e-01 1.14202308e-01\n",
      "  2.78459615e-01 8.15190385e-02]\n",
      " [1.79003030e+01 2.11322222e+01 1.18086717e+02 1.02166717e+03\n",
      "  1.01110606e-01 1.39612677e-01 1.56056616e-01 8.75811616e-02\n",
      "  1.89621717e-01 6.14014141e-02 6.26321212e-01 1.16092980e+00\n",
      "  4.41396970e+00 7.59648990e+01 6.50016162e-03 3.02793535e-02\n",
      "  3.99543687e-02 1.46897626e-02 1.96347778e-02 3.81515051e-03\n",
      "  2.16925253e+01 2.84627778e+01 1.44689394e+02 1.48731465e+03\n",
      "  1.40761515e-01 3.49273182e-01 4.27572525e-01 1.78348990e-01\n",
      "  3.13678788e-01 8.76610606e-02]]\n",
      "\n",
      "and the cluster assignments are:\n",
      "[2 2 2 0 2 0 2 2 0 0 2 2 2 1 0 2 2 2 2 0 0 0 2 2 2 2 2 2 2 2 2 2 2 2 2 2 1\n",
      " 0 1 0 1 0 2 2 0 2 0 0 0 0 0 0 0 2 2 0 2 2 0 0 0 0 2 0 2 2 0 0 0 0 2 0 2 1\n",
      " 0 2 0 2 2 0 0 0 2 2 0 2 1 2 0 1 1 1 2 0 2 2 0 0 0 1 2 0 0 0 0 2 0 0 2 0 0\n",
      " 0 1 0 0 0 0 2 2 2 0 2 2 1 0 0 2 2 1 2 0 2 2 2 2 0 0 0 2 0 0 2 0 0 0 0 0 1\n",
      " 1 0 0 0 0 0 0 0 2 2 0 0 0 2 2 0 2 1 0 2 2 1 0 2 2 0 0 0 0 2 0 0 2 2 2 0 2\n",
      " 0 2 0 0 0 1 0 0 0 1 0 1 2 2 2 0 2 2 2 0 2 0 2 0 2 2 0 2 2 1 1 0 0 2 2 0 0\n",
      " 0 2 0 2 0 1 0 0 2 0 0 2 0 1 2 2 1 2 0 0 0 0 2 0 0 0 0 0 2 0 2 2 2 2 2 2 2\n",
      " 2 2 2 2 2 2 2 0 0 0 0 0 0 2 0 2 0 0 2 0 0 2 0 2 2 0 0 0 0 0 0 1 1 0 0 0 0\n",
      " 0 0 1 0 2 0 2 0 0 0 0 0 0 0 0 2 0 0 0 0 0 2 0 0 0 2 0 2 0 0 1 0 2 2 2 0 0\n",
      " 0 0 2 0 2 0 2 2 0 0 2 0 0 0 2 0 0 0 2 2 2 0 0 0 0 0 0 0 0 0 2 0 2 2 0 2 2\n",
      " 2 1 2 2 0 1 0 0 0 0 0 0 0 0 0 1 0 1 0 2 0 0 2 2 0 0 0 0 0 0 2 0 0 0 0 0 2\n",
      " 0 2 0 0 0 0 2 2 0 0 2 0 0 0 1 0 0 0 0 0 0 0 0 1 0 2 2 1 2 0 1 1 0 0 2 0 0\n",
      " 2 0 2 1 1 2 0 2 0 1 0 0 0 0 0 0 2 2 1 0 0 0 0 0 2 0 0 0 2 0 0 0 2 0 0 2 0\n",
      " 2 0 0 1 0 1 2 0 2 0 2 2 0 0 1 0 0 2 2 2 1 0 2 0 0 0 0 2 2 0 1 2 2 2 0 2 2\n",
      " 0 0 0 2 0 0 0 0 0 0 0 0 0 0 1 2 0 2 1 0 0 0 0 1 1 0 0 0 0 0 0 0 0 0 0 0 0\n",
      " 0 0 0 1 0 0 0 2 2 2 2 2 2 0]\n",
      "\n",
      "\n",
      "When k = 4, the centroids are:\n",
      "[[1.89051765e+01 2.18969412e+01 1.24861176e+02 1.11454471e+03\n",
      "  9.98064706e-02 1.42902000e-01 1.66036824e-01 9.47347059e-02\n",
      "  1.91172941e-01 6.04005882e-02 6.64014118e-01 1.27097412e+00\n",
      "  4.71229412e+00 7.87685882e+01 6.59843529e-03 3.25434941e-02\n",
      "  4.26047059e-02 1.60165529e-02 2.11708235e-02 4.10082353e-03\n",
      "  2.25854118e+01 2.88816471e+01 1.50754118e+02 1.56270588e+03\n",
      "  1.37792235e-01 3.41400706e-01 4.29143529e-01 1.82948471e-01\n",
      "  3.08811765e-01 8.51904706e-02]\n",
      " [1.35503293e+01 1.89098503e+01 8.78640419e+01 5.72316168e+02\n",
      "  9.49462275e-02 9.69961976e-02 7.14199093e-02 4.00961826e-02\n",
      "  1.77414970e-01 6.20518563e-02 3.20286826e-01 1.12507365e+00\n",
      "  2.27885868e+00 2.72712784e+01 6.39996108e-03 2.30601886e-02\n",
      "  2.76755916e-02 1.09277725e-02 1.92567605e-02 3.40435419e-03\n",
      "  1.53026347e+01 2.53776048e+01 1.00582605e+02 7.28964072e+02\n",
      "  1.30475988e-01 2.47305389e-01 2.50861443e-01 1.06468147e-01\n",
      "  2.89130539e-01 8.31583234e-02]\n",
      " [2.19912500e+01 2.16825000e+01 1.46265625e+02 1.53180000e+03\n",
      "  1.05098125e-01 1.67539375e-01 2.23459375e-01 1.26875937e-01\n",
      "  1.91225000e-01 6.03915625e-02 1.04058438e+00 1.14725625e+00\n",
      "  7.32684375e+00 1.57391562e+02 6.60131250e-03 3.35668750e-02\n",
      "  4.57384375e-02 1.57881250e-02 1.90603125e-02 3.84043750e-03\n",
      "  2.82931250e+01 2.90493750e+01 1.89887500e+02 2.48065625e+03\n",
      "  1.43565625e-01 3.92640625e-01 5.13884375e-01 2.24693750e-01\n",
      "  3.06290625e-01 8.62081250e-02]\n",
      " [1.01860932e+01 1.78376271e+01 6.51702542e+01 3.19698305e+02\n",
      "  9.55107627e-02 8.02149153e-02 4.58367034e-02 1.97490593e-02\n",
      "  1.81827119e-01 6.72876271e-02 2.86671186e-01 1.45652542e+00\n",
      "  1.98851610e+00 1.78926356e+01 9.29339831e-03 2.50391610e-02\n",
      "  3.23631102e-02 1.01313475e-02 2.41301695e-02 4.66764407e-03\n",
      "  1.11944831e+01 2.33025424e+01 7.24283051e+01 3.84464407e+02\n",
      "  1.30782288e-01 1.73671610e-01 1.53949364e-01 5.85572881e-02\n",
      "  2.74856780e-01 8.46647458e-02]]\n",
      "\n",
      "and the cluster assignments are:\n",
      "[2 2 0 1 0 1 0 1 1 1 1 1 0 1 1 1 1 1 2 1 1 3 1 2 2 0 1 0 1 0 0 1 0 0 1 1 1\n",
      " 1 1 1 1 1 0 1 1 0 3 1 1 1 1 1 1 0 1 1 2 1 1 3 3 3 1 3 1 1 3 3 3 1 0 3 0 1\n",
      " 1 1 1 0 0 1 1 1 2 0 1 0 1 0 1 1 1 1 1 1 1 0 1 3 1 1 1 3 1 3 3 1 1 1 2 1 3\n",
      " 1 1 3 3 1 3 1 1 0 1 0 2 1 1 1 1 0 1 0 1 1 1 1 0 1 1 3 1 3 3 1 1 1 3 1 1 1\n",
      " 1 1 1 3 3 3 1 1 0 1 1 3 1 0 2 1 2 1 3 0 0 1 1 1 1 3 3 3 3 1 1 1 2 2 1 3 1\n",
      " 3 0 1 1 1 1 1 3 1 1 1 1 0 0 1 1 0 0 1 1 1 3 1 1 1 0 1 2 1 1 1 1 3 2 2 1 1\n",
      " 3 1 1 1 3 1 1 1 1 3 3 0 3 1 2 0 1 0 1 1 3 1 0 3 1 1 3 1 2 1 0 1 2 1 0 1 1\n",
      " 1 0 1 0 1 0 2 3 1 1 3 1 3 2 3 0 1 3 0 1 1 0 1 0 1 1 1 1 1 3 3 1 1 1 1 1 1\n",
      " 3 1 1 3 2 1 0 3 1 1 1 3 1 1 1 1 1 3 3 1 1 0 3 1 3 0 1 0 1 1 1 1 1 1 1 1 3\n",
      " 1 1 0 1 0 3 2 1 3 3 0 1 3 1 1 3 1 1 1 2 1 3 1 1 1 3 3 1 1 1 1 1 0 0 1 2 2\n",
      " 1 1 0 0 1 1 3 1 1 3 3 3 1 1 1 1 1 1 3 0 3 3 0 2 1 1 1 1 3 1 0 1 1 1 1 3 1\n",
      " 1 0 1 1 3 3 1 1 1 3 0 1 3 1 1 1 1 3 3 3 3 3 1 1 1 0 0 1 1 1 1 1 1 3 0 1 3\n",
      " 0 1 0 1 1 2 1 0 1 1 1 1 1 1 1 3 0 2 1 1 1 1 1 3 0 1 3 1 1 1 3 1 1 1 3 1 1\n",
      " 1 1 1 1 1 1 0 1 1 1 0 0 1 1 1 1 1 0 0 1 1 1 2 3 3 1 3 1 1 1 1 1 1 1 3 0 0\n",
      " 1 1 3 2 3 1 3 3 1 1 1 1 1 1 1 0 3 0 1 1 3 3 3 1 1 1 1 1 3 3 3 3 3 3 1 3 1\n",
      " 3 3 3 1 3 1 3 1 0 2 0 1 0 3]\n",
      "\n",
      "\n",
      "When k = 5, the centroids are:\n",
      "[[9.56040845e+00 1.78564789e+01 6.10705634e+01 2.80046479e+02\n",
      "  9.72019718e-02 8.23308451e-02 4.76091408e-02 1.82352676e-02\n",
      "  1.85818310e-01 6.96433803e-02 3.07984507e-01 1.56119155e+00\n",
      "  2.10533380e+00 1.81790845e+01 1.03648732e-02 2.64038451e-02\n",
      "  3.63130845e-02 1.03737183e-02 2.61164789e-02 5.41016901e-03\n",
      "  1.05294225e+01 2.30019718e+01 6.77709859e+01 3.38663380e+02\n",
      "  1.33266620e-01 1.64160282e-01 1.45140423e-01 5.16591549e-02\n",
      "  2.75257746e-01 8.71449296e-02]\n",
      " [1.44890449e+01 1.94781461e+01 9.44810112e+01 6.51443258e+02\n",
      "  9.64451685e-02 1.10787303e-01 9.31832978e-02 5.07105169e-02\n",
      "  1.79741011e-01 6.20856742e-02 3.48826404e-01 1.07546629e+00\n",
      "  2.49684213e+00 3.17560674e+01 6.12305618e-03 2.57363034e-02\n",
      "  3.17246629e-02 1.20211067e-02 1.82019551e-02 3.55445393e-03\n",
      "  1.65903933e+01 2.63003371e+01 1.09898427e+02 8.50435955e+02\n",
      "  1.33411517e-01 2.93557303e-01 3.15274551e-01 1.28750787e-01\n",
      "  2.96537640e-01 8.65938202e-02]\n",
      " [1.96013821e+01 2.17531707e+01 1.29668293e+02 1.21112846e+03\n",
      "  1.01073415e-01 1.48072927e-01 1.78011220e-01 1.01685528e-01\n",
      "  1.91052033e-01 6.03166667e-02 7.52619512e-01 1.22562439e+00\n",
      "  5.31956098e+00 9.78202439e+01 6.55449593e-03 3.22932276e-02\n",
      "  4.25773171e-02 1.57389268e-02 2.05308943e-02 3.97508943e-03\n",
      "  2.39514634e+01 2.88935772e+01 1.60052033e+02 1.78621138e+03\n",
      "  1.39495447e-01 3.53568780e-01 4.47068293e-01 1.92585935e-01\n",
      "  3.10348780e-01 8.54971545e-02]\n",
      " [1.11087500e+01 1.77467500e+01 7.11887500e+01 3.78330000e+02\n",
      "  9.28440000e-02 7.46282500e-02 4.05805500e-02 2.14373000e-02\n",
      "  1.75340000e-01 6.34452500e-02 2.56502500e-01 1.30891500e+00\n",
      "  1.82490500e+00 1.75949500e+01 7.76740000e-03 2.33222500e-02\n",
      "  2.66192000e-02 1.00192000e-02 2.15512500e-02 3.61987500e-03\n",
      "  1.21152500e+01 2.34522500e+01 7.89005000e+01 4.47872500e+02\n",
      "  1.24479500e-01 1.71626750e-01 1.51103625e-01 6.51695000e-02\n",
      "  2.69205000e-01 7.94472500e-02]\n",
      " [1.22628662e+01 1.81871338e+01 7.88535032e+01 4.62991720e+02\n",
      "  9.30868153e-02 8.02948408e-02 4.48492529e-02 2.64267898e-02\n",
      "  1.74401911e-01 6.22875796e-02 2.78678981e-01 1.19110573e+00\n",
      "  1.97177643e+00 2.08459554e+01 6.77457325e-03 1.99768726e-02\n",
      "  2.30606854e-02 9.54812102e-03 2.04267516e-02 3.24047452e-03\n",
      "  1.35404459e+01 2.42276433e+01 8.79971338e+01 5.60574522e+02\n",
      "  1.27206561e-01 1.93721019e-01 1.74636064e-01 7.85391783e-02\n",
      "  2.78884713e-01 7.94276433e-02]]\n",
      "\n",
      "and the cluster assignments are:\n",
      "[2 2 2 4 2 1 2 1 1 1 1 2 2 1 1 1 1 2 2 1 4 0 1 2 2 2 1 2 1 2 2 1 2 2 1 2 1\n",
      " 4 1 1 1 4 2 1 1 2 0 1 4 1 4 1 4 2 1 4 2 1 4 0 0 0 1 0 1 1 0 3 0 4 2 0 2 1\n",
      " 4 1 4 2 2 4 4 4 2 2 4 2 1 2 4 1 1 1 1 1 1 2 4 0 4 1 1 0 4 0 0 1 4 4 2 4 0\n",
      " 4 1 0 0 4 0 1 1 2 4 2 2 1 4 1 1 2 1 2 4 1 1 1 2 4 4 3 1 3 0 1 4 4 3 4 4 1\n",
      " 1 1 4 0 0 3 1 4 2 1 4 3 4 2 2 4 2 1 3 2 2 1 4 1 1 3 0 0 0 1 4 4 2 2 1 3 1\n",
      " 0 2 4 4 4 1 4 0 1 1 4 1 2 2 1 4 2 2 1 4 1 0 2 4 1 2 4 2 1 1 1 4 0 2 2 1 1\n",
      " 0 1 1 1 0 1 4 1 1 3 3 2 0 1 2 2 1 2 1 4 3 1 2 0 4 4 3 4 2 4 2 2 2 1 2 1 1\n",
      " 1 2 2 2 1 2 2 3 1 4 0 1 3 2 0 2 4 3 2 1 1 2 4 2 1 4 4 4 4 3 3 1 1 4 4 4 1\n",
      " 0 4 1 0 2 4 2 0 4 4 4 0 1 1 4 1 4 4 0 4 4 2 0 4 0 2 4 2 4 4 1 4 1 1 1 4 3\n",
      " 4 4 2 4 2 0 2 1 0 3 2 4 0 4 1 4 4 4 1 2 1 3 4 4 1 0 0 4 4 4 1 1 2 2 4 2 2\n",
      " 1 1 2 2 1 1 0 1 1 4 3 3 4 4 4 1 4 1 3 2 0 0 2 2 4 1 1 4 4 4 2 4 4 4 4 3 1\n",
      " 4 2 4 4 3 0 1 1 4 0 2 4 3 4 1 4 1 0 0 3 3 3 4 1 4 2 2 1 1 4 1 1 1 3 2 1 0\n",
      " 2 4 2 1 1 2 4 2 4 1 4 1 4 4 4 0 2 2 1 4 1 1 1 0 2 4 0 4 1 4 3 4 1 1 3 1 4\n",
      " 1 1 1 1 4 1 2 4 1 4 2 2 4 4 1 4 4 2 2 1 1 4 2 0 0 4 3 1 1 4 1 1 1 1 4 2 2\n",
      " 4 4 0 2 3 1 0 0 1 4 1 4 4 4 1 2 3 2 1 4 0 0 3 1 1 4 1 1 0 0 0 4 3 3 4 0 4\n",
      " 0 0 0 1 4 1 3 1 2 2 2 1 2 0]\n",
      "\n",
      "\n",
      "When k = 6, the centroids are:\n",
      "[[1.29674510e+01 1.94545098e+01 8.38903922e+01 5.18074510e+02\n",
      "  9.38800000e-02 9.44394118e-02 5.89086275e-02 3.32441176e-02\n",
      "  1.73668627e-01 6.22825490e-02 2.69847059e-01 1.03403922e+00\n",
      "  1.89403922e+00 2.16576471e+01 5.68674510e-03 2.10714314e-02\n",
      "  2.38982353e-02 9.08611765e-03 1.74360784e-02 3.20425490e-03\n",
      "  1.46841176e+01 2.63001961e+01 9.62017647e+01 6.60815686e+02\n",
      "  1.31988627e-01 2.62915098e-01 2.46925098e-01 1.00496471e-01\n",
      "  2.97276471e-01 8.64284314e-02]\n",
      " [1.29886842e+01 1.71407895e+01 8.34142105e+01 5.19573684e+02\n",
      "  9.02750000e-02 7.20436842e-02 4.43064211e-02 2.65787368e-02\n",
      "  1.71134211e-01 6.01342105e-02 2.65873684e-01 1.12991316e+00\n",
      "  1.91856316e+00 2.08752632e+01 6.31926316e-03 2.00160000e-02\n",
      "  2.49485237e-02 9.84947368e-03 2.04321053e-02 3.20416579e-03\n",
      "  1.39634211e+01 2.19297368e+01 9.05663158e+01 5.96739474e+02\n",
      "  1.18229474e-01 1.68729474e-01 1.59554789e-01 7.15492368e-02\n",
      "  2.63913158e-01 7.42800000e-02]\n",
      " [1.44900746e+01 1.93220896e+01 9.44580597e+01 6.49643284e+02\n",
      "  9.62265672e-02 1.10421045e-01 9.21094627e-02 5.02153955e-02\n",
      "  1.79437313e-01 6.21503731e-02 3.44464925e-01 1.06325970e+00\n",
      "  2.47383507e+00 3.08851493e+01 6.00838060e-03 2.58994254e-02\n",
      "  3.16781567e-02 1.20290896e-02 1.85772239e-02 3.58939403e-03\n",
      "  1.65185821e+01 2.59879104e+01 1.09475746e+02 8.38641045e+02\n",
      "  1.32106045e-01 2.88974851e-01 3.10433881e-01 1.27591866e-01\n",
      "  2.92776119e-01 8.61635075e-02]\n",
      " [1.91674468e+01 2.16954610e+01 1.26729787e+02 1.16102482e+03\n",
      "  1.00747872e-01 1.45848511e-01 1.72063546e-01 9.76919149e-02\n",
      "  1.90800709e-01 6.04156028e-02 7.19945390e-01 1.21816950e+00\n",
      "  5.08898582e+00 9.19585816e+01 6.67296454e-03 3.20223830e-02\n",
      "  4.24436879e-02 1.55840496e-02 2.01097872e-02 3.93926241e-03\n",
      "  2.33739716e+01 2.89314184e+01 1.56166667e+02 1.70740426e+03\n",
      "  1.39565106e-01 3.52673475e-01 4.41870922e-01 1.88620213e-01\n",
      "  3.11915603e-01 8.56758156e-02]\n",
      " [1.18828261e+01 1.82288043e+01 7.63684783e+01 4.33617391e+02\n",
      "  9.46183696e-02 8.12998913e-02 4.53808446e-02 2.65118043e-02\n",
      "  1.75985870e-01 6.32389130e-02 2.88105435e-01 1.28159565e+00\n",
      "  2.03448370e+00 2.09465978e+01 7.29181522e-03 1.99865000e-02\n",
      "  2.25784859e-02 9.91350000e-03 2.10554348e-02 3.32200217e-03\n",
      "  1.31678261e+01 2.46397826e+01 8.55046739e+01 5.28758696e+02\n",
      "  1.30587935e-01 1.90938913e-01 1.70894457e-01 7.89873913e-02\n",
      "  2.79289130e-01 8.04470652e-02]\n",
      " [1.01417611e+01 1.77611504e+01 6.48676991e+01 3.16962832e+02\n",
      "  9.56280531e-02 7.94274336e-02 4.47801858e-02 1.93543628e-02\n",
      "  1.82147788e-01 6.73061947e-02 2.87621239e-01 1.45638407e+00\n",
      "  1.99179558e+00 1.78950531e+01 9.37436283e-03 2.51094956e-02\n",
      "  3.25134248e-02 1.02038850e-02 2.44334513e-02 4.70872566e-03\n",
      "  1.11239735e+01 2.30719469e+01 7.19304425e+01 3.79702655e+02\n",
      "  1.30076195e-01 1.66729646e-01 1.46856239e-01 5.67004425e-02\n",
      "  2.73951327e-01 8.41358407e-02]]\n",
      "\n",
      "and the cluster assignments are:\n",
      "[3 3 3 4 3 0 3 2 0 0 3 3 3 2 2 2 2 3 3 2 0 5 2 3 3 3 2 3 3 3 3 2 3 3 3 3 2\n",
      " 1 2 2 2 4 3 2 0 3 5 2 4 0 4 0 4 3 2 4 3 2 1 5 5 5 2 5 2 2 5 5 5 1 3 5 3 2\n",
      " 0 3 1 3 3 0 4 1 3 3 4 3 2 3 4 2 2 2 2 0 2 3 4 5 4 2 2 5 4 5 5 2 4 4 3 4 5\n",
      " 4 2 5 5 4 5 2 3 3 4 3 3 2 1 2 2 3 2 3 4 3 3 2 3 0 4 5 2 5 5 3 4 0 5 4 4 2\n",
      " 2 2 1 5 5 5 0 4 3 3 4 5 4 3 3 4 3 2 5 3 3 2 4 2 2 5 5 5 5 2 1 1 3 3 3 5 2\n",
      " 5 3 4 4 4 2 1 5 0 2 1 2 3 3 2 0 3 3 2 0 2 5 3 0 2 3 4 3 3 2 2 4 5 3 3 2 0\n",
      " 5 2 0 2 5 2 0 0 3 5 5 3 5 2 3 3 2 3 2 4 5 2 3 5 1 0 5 4 3 4 3 3 3 2 3 2 3\n",
      " 2 3 3 3 2 3 3 5 0 1 5 2 5 3 5 3 4 5 3 2 2 3 4 3 2 1 1 4 1 5 5 2 2 1 4 1 1\n",
      " 5 4 2 5 3 4 3 5 4 4 0 5 2 0 4 2 0 5 5 4 4 3 5 4 5 3 1 3 4 1 2 4 3 2 3 0 5\n",
      " 4 4 3 1 3 5 3 2 5 5 3 4 5 4 2 4 4 4 2 3 2 5 4 1 2 5 5 1 1 1 2 0 3 3 0 3 3\n",
      " 3 2 3 3 0 2 5 0 1 4 5 5 4 0 1 2 4 2 5 3 5 5 3 3 4 2 0 1 4 4 3 4 1 1 4 5 2\n",
      " 0 3 0 4 5 5 2 2 4 5 3 1 5 4 2 4 2 5 5 5 5 5 1 2 4 3 3 2 2 0 2 2 2 5 3 2 5\n",
      " 3 4 3 2 2 3 4 3 4 2 0 0 4 0 0 5 3 3 2 4 0 2 0 5 3 4 5 4 2 4 5 1 2 2 5 2 4\n",
      " 2 0 0 2 1 2 3 4 3 0 3 3 4 0 2 0 0 3 3 2 2 4 3 5 5 4 5 2 2 4 2 2 2 2 5 3 3\n",
      " 0 0 5 3 5 2 5 5 2 4 1 4 4 4 2 3 5 3 2 4 5 5 5 2 2 0 2 2 5 5 5 4 5 5 1 5 1\n",
      " 5 5 5 2 4 2 5 2 3 3 3 3 3 5]\n",
      "\n",
      "\n",
      "When k = 7, the centroids are:\n",
      "[[1.01387925e+01 1.78645283e+01 6.48328302e+01 3.14143396e+02\n",
      "  9.78632075e-02 7.97864151e-02 4.31595849e-02 2.03603585e-02\n",
      "  1.83616981e-01 6.76200000e-02 3.02233962e-01 1.53252453e+00\n",
      "  2.05346604e+00 1.89274340e+01 1.00904528e-02 2.38949245e-02\n",
      "  3.20531698e-02 1.05737736e-02 2.46941509e-02 5.01192453e-03\n",
      "  1.11371698e+01 2.32003774e+01 7.17109434e+01 3.77730189e+02\n",
      "  1.33459057e-01 1.58916792e-01 1.29690755e-01 5.66458491e-02\n",
      "  2.68622642e-01 8.45228302e-02]\n",
      " [1.23908000e+01 1.66260000e+01 7.93636000e+01 4.71264000e+02\n",
      "  8.97996000e-02 6.86528000e-02 3.69151200e-02 2.23948400e-02\n",
      "  1.64720000e-01 6.08352000e-02 2.37732000e-01 1.12548400e+00\n",
      "  1.70600400e+00 1.78665200e+01 6.77740000e-03 1.59786800e-02\n",
      "  2.01988800e-02 9.27044000e-03 2.08184000e-02 2.75916800e-03\n",
      "  1.32616000e+01 2.15648000e+01 8.59296000e+01 5.38324000e+02\n",
      "  1.17451600e-01 1.41123200e-01 1.24923280e-01 6.19760000e-02\n",
      "  2.50232000e-01 7.26716000e-02]\n",
      " [1.70602299e+01 2.07204215e+01 1.12208314e+02 9.29886973e+02\n",
      "  9.88406513e-02 1.30454904e-01 1.37195479e-01 7.67742414e-02\n",
      "  1.86204215e-01 6.12290805e-02 5.52201533e-01 1.15493410e+00\n",
      "  3.91575057e+00 6.43909962e+01 6.39518774e-03 2.94160307e-02\n",
      "  3.79287280e-02 1.40660307e-02 1.95384598e-02 3.79699923e-03\n",
      "  2.02971264e+01 2.77448276e+01 1.35192031e+02 1.31538927e+03\n",
      "  1.36432797e-01 3.25316207e-01 3.85782490e-01 1.61933372e-01\n",
      "  3.04393487e-01 8.60026820e-02]\n",
      " [8.69092000e+00 1.74224000e+01 5.54468000e+01 2.29464000e+02\n",
      "  9.58700000e-02 8.77796000e-02 5.44884400e-02 1.51030000e-02\n",
      "  1.86568000e-01 7.31556000e-02 3.06064000e-01 1.52292800e+00\n",
      "  2.14960000e+00 1.63620400e+01 1.08166000e-02 3.12819200e-02\n",
      "  4.21244400e-02 9.99592000e-03 2.84380000e-02 5.90472000e-03\n",
      "  9.56996000e+00 2.19556000e+01 6.17204000e+01 2.77280000e+02\n",
      "  1.32676000e-01 1.80782800e-01 1.75953600e-01 4.48308000e-02\n",
      "  2.82168000e-01 9.18212000e-02]\n",
      " [1.14587640e+01 1.84331461e+01 7.36148315e+01 4.02843820e+02\n",
      "  9.51347191e-02 8.12660674e-02 4.55892326e-02 2.56869213e-02\n",
      "  1.77797753e-01 6.37831461e-02 2.83820225e-01 1.31902247e+00\n",
      "  2.01192360e+00 2.00093820e+01 7.49433708e-03 2.20986966e-02\n",
      "  2.50915360e-02 1.03968989e-02 2.13441573e-02 3.51210112e-03\n",
      "  1.26910112e+01 2.48156180e+01 8.26143820e+01 4.90806742e+02\n",
      "  1.30680562e-01 1.92374157e-01 1.72722169e-01 7.82110112e-02\n",
      "  2.81523596e-01 8.11315730e-02]\n",
      " [1.24460000e+01 1.77310000e+01 7.96645000e+01 4.75870000e+02\n",
      "  9.18525000e-02 6.99050000e-02 3.08546500e-02 2.06686000e-02\n",
      "  1.72180000e-01 6.17910000e-02 2.61870000e-01 1.23144500e+00\n",
      "  1.72984000e+00 2.00327500e+01 6.58155000e-03 1.52089000e-02\n",
      "  1.58764500e-02 7.50375000e-03 1.92145000e-02 3.06605000e-03\n",
      "  1.36305000e+01 2.35855000e+01 8.75355000e+01 5.68015000e+02\n",
      "  1.25329000e-01 1.58279000e-01 1.30160450e-01 6.68056000e-02\n",
      "  2.75285000e-01 7.92365000e-02]\n",
      " [1.30475000e+01 1.84852083e+01 8.42979167e+01 5.24928125e+02\n",
      "  9.26985417e-02 8.90731250e-02 5.69969688e-02 3.20923333e-02\n",
      "  1.73961458e-01 6.15093750e-02 2.74037500e-01 1.05724792e+00\n",
      "  1.97807292e+00 2.19311458e+01 5.87397917e-03 2.18809271e-02\n",
      "  2.54223948e-02 9.61770833e-03 1.83844792e-02 3.25162812e-03\n",
      "  1.45463542e+01 2.46980208e+01 9.53248958e+01 6.48784375e+02\n",
      "  1.27553125e-01 2.39710000e-01 2.27239615e-01 9.35108229e-02\n",
      "  2.86437500e-01 8.25104167e-02]]\n",
      "\n",
      "and the cluster assignments are:\n",
      "[2 2 2 4 2 6 2 2 6 6 2 2 2 2 6 2 2 2 2 6 6 3 2 2 2 2 2 2 2 2 2 2 2 2 2 2 2\n",
      " 1 2 2 2 4 2 2 6 2 3 2 6 6 4 6 4 2 2 4 2 2 6 3 0 3 2 3 2 2 0 4 3 1 2 3 2 2\n",
      " 6 2 6 2 2 6 4 6 2 2 5 2 2 2 5 2 2 2 2 6 2 2 4 0 4 2 2 3 1 0 0 2 4 1 2 4 0\n",
      " 1 2 0 3 6 3 2 2 2 4 2 2 2 6 2 2 2 2 2 1 2 2 2 2 6 4 4 2 4 0 2 4 6 4 4 6 2\n",
      " 2 2 6 3 0 4 6 5 2 2 1 4 4 2 2 5 2 2 0 2 2 2 1 2 2 0 0 3 0 2 6 5 2 2 2 4 2\n",
      " 0 2 4 4 1 2 6 3 6 2 6 2 2 2 2 6 2 2 2 6 2 0 2 6 2 2 4 2 2 2 2 4 0 2 2 6 6\n",
      " 0 2 6 2 0 2 6 6 2 4 4 2 0 2 2 2 2 2 6 1 4 2 2 0 6 6 4 4 2 4 2 2 2 2 2 2 2\n",
      " 2 2 2 2 2 2 2 0 6 6 0 2 4 2 0 2 4 4 2 2 6 2 4 2 2 6 5 4 5 4 4 2 2 5 4 1 6\n",
      " 0 4 2 0 2 1 2 0 4 4 6 3 6 6 4 2 6 4 3 1 1 2 3 1 0 2 6 2 6 5 2 1 2 2 2 6 4\n",
      " 4 1 2 5 2 0 2 2 0 4 2 4 0 5 2 4 4 4 2 2 2 4 1 6 6 3 0 6 6 5 2 6 2 2 6 2 2\n",
      " 2 2 2 2 6 2 0 6 6 4 4 4 4 6 6 2 1 2 4 2 0 3 2 2 5 6 6 6 4 5 2 6 6 5 1 4 2\n",
      " 6 2 6 4 4 3 2 2 4 0 2 5 4 4 2 4 6 0 0 0 4 4 6 2 1 2 2 2 2 6 2 2 2 4 2 6 0\n",
      " 2 4 2 2 2 2 4 2 4 2 6 6 4 6 6 0 2 2 2 4 6 6 6 0 2 4 0 5 2 5 4 6 2 2 4 2 1\n",
      " 2 6 6 2 6 2 2 4 2 6 2 2 1 6 2 6 6 2 2 2 2 1 2 3 0 1 0 2 2 4 2 2 2 2 4 2 2\n",
      " 6 6 0 2 4 6 0 3 6 5 6 5 4 4 2 2 0 2 2 4 3 3 4 2 2 6 6 2 0 0 0 4 0 4 6 3 6\n",
      " 0 0 0 2 4 2 4 2 2 2 2 2 2 3]\n",
      "\n",
      "\n"
     ]
    }
   ],
   "source": [
    "for k in range(2, 8):\n",
    "    centroids, cluster_assignment = k_means(training_set, k)\n",
    "    print(\"When k = %d, the centroids are:\" % k)\n",
    "    print(centroids)\n",
    "    print(\"\\nand the cluster assignments are:\")\n",
    "    print(cluster_assignment)\n",
    "    print(\"\\n\")"
   ]
  },
  {
   "cell_type": "markdown",
   "metadata": {
    "id": "w6llP5hE5-8A"
   },
   "source": [
    "## 3. Plot k-means distortion for values of k ranging between 2 and 7, inclusive"
   ]
  },
  {
   "cell_type": "code",
   "execution_count": null,
   "metadata": {
    "id": "jaYaKuea6Alq"
   },
   "outputs": [],
   "source": [
    "def k_means_distortion(training_set, c, centroids):\n",
    "    num_points = training_set.shape[0]\n",
    "\n",
    "    errors_sum = 0\n",
    "    for i in range(num_points):\n",
    "        errors_sum += (np.linalg.norm(training_set[i] - centroids[c[i]]))**2\n",
    "        \n",
    "    error = errors_sum / num_points\n",
    "    \n",
    "    return error"
   ]
  },
  {
   "cell_type": "code",
   "execution_count": null,
   "metadata": {
    "colab": {
     "base_uri": "https://localhost:8080/"
    },
    "id": "cBmD7qoB6CBa",
    "outputId": "723c9019-c2f3-4daa-87aa-33304d23067f"
   },
   "outputs": [
    {
     "name": "stdout",
     "output_type": "stream",
     "text": [
      "0.0791460526993732\n"
     ]
    }
   ],
   "source": [
    "# sanity check to check that my k_means_distortion implementation returns a result\n",
    "centroids, cluster_assignment = k_means(test_training_set, 3)\n",
    "error = k_means_distortion(test_training_set, cluster_assignment, centroids)\n",
    "print(error)"
   ]
  },
  {
   "cell_type": "code",
   "execution_count": null,
   "metadata": {
    "colab": {
     "base_uri": "https://localhost:8080/",
     "height": 430
    },
    "id": "Wi8qJ4iL07W6",
    "outputId": "d9ba76d2-d134-4e8d-91ad-5f23989357d3"
   },
   "outputs": [
    {
     "name": "stdout",
     "output_type": "stream",
     "text": [
      "k | error\n",
      "--|------\n",
      "2 | 383652\n",
      "3 | 248555\n",
      "4 | 109657\n",
      "5 | 103889\n",
      "6 | 77222\n",
      "7 | 78163\n"
     ]
    },
    {
     "data": {
      "image/png": "[encoded data removed]",
      "text/plain": [
       "<Figure size 432x288 with 1 Axes>"
      ]
     },
     "metadata": {
      "needs_background": "light"
     },
     "output_type": "display_data"
    }
   ],
   "source": [
    "x_axis = np.arange(2, 8, 1) # values of k\n",
    "y_axis = np.empty(x_axis.shape)\n",
    "\n",
    "print(\"k | error\")\n",
    "print(\"--|------\")\n",
    "for k in range(2, 8):\n",
    "    centroids, cluster_assignment = k_means(training_set, k=k)\n",
    "    error = k_means_distortion(training_set, cluster_assignment, centroids)\n",
    "    y_axis[k-2] = error\n",
    "    print(\"%d | %d\" % (k, error))\n",
    "\n",
    "plt.plot(x_axis, y_axis)\n",
    "plt.xlabel('Number of cluster centroids, K')\n",
    "plt.ylabel('Squared Norm Distortion, J')\n",
    "plt.title(\"K-Means clustering distortion vs. the number of cluster centriods\")\n",
    "plt.show()"
   ]
  },
  {
   "cell_type": "markdown",
   "metadata": {
    "id": "1m_sN8hE5lUM"
   },
   "source": [
    "## 4. Picking a value for K\n",
    "\n",
    "Pick k = 7\n",
    "\n",
    "This is the value of k for which the k-means algorithm has the lowest distortion. As such, the data points are clustered most optimally when the data is grouped into 7 clusters. "
   ]
  }
 ],
 "metadata": {
  "colab": {
   "collapsed_sections": [],
   "name": "Actual Working Version of Assignment1.ipynb",
   "provenance": []
  },
  "kernelspec": {
   "display_name": "Python 3",
   "language": "python",
   "name": "python3"
  },
  "language_info": {
   "codemirror_mode": {
    "name": "ipython",
    "version": 3
   },
   "file_extension": ".py",
   "mimetype": "text/x-python",
   "name": "python",
   "nbconvert_exporter": "python",
   "pygments_lexer": "ipython3",
   "version": "3.8.8"
  }
 },
 "nbformat": 4,
 "nbformat_minor": 1
}
