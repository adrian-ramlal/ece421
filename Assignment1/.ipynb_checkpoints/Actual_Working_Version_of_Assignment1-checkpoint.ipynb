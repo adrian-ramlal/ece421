{
 "cells": [
  {
   "cell_type": "markdown",
   "metadata": {
    "id": "1q23mZ1A4nGZ"
   },
   "source": [
    "# **Problem 1**"
   ]
  },
  {
   "cell_type": "markdown",
   "metadata": {
    "id": "8Tf6EB6z4uaI"
   },
   "source": [
    "## 0. Importing and understanding the dataset"
   ]
  },
  {
   "cell_type": "code",
   "execution_count": 4,
   "metadata": {
    "id": "bAUtUSRW3aQ_"
   },
   "outputs": [],
   "source": [
    "from sklearn import datasets\n",
    "import numpy as np\n",
    "import matplotlib.pyplot as plt\n",
    "\n",
    "np.random.seed(0)"
   ]
  },
  {
   "cell_type": "code",
   "execution_count": 5,
   "metadata": {
    "colab": {
     "base_uri": "https://localhost:8080/"
    },
    "id": "c3CRn3Mf3Yzx",
    "outputId": "f43e595f-4496-411b-9b50-36f0447aa44e"
   },
   "outputs": [
    {
     "name": "stdout",
     "output_type": "stream",
     "text": [
      "dict_keys(['data', 'target', 'target_names', 'DESCR', 'feature_names', 'filename'])\n",
      "(569, 30)\n"
     ]
    }
   ],
   "source": [
    "data = datasets.load_breast_cancer()\n",
    "print(data.keys()) \n",
    "# ['data', 'target', 'target_names', 'DESCR', 'feature_names', 'filename']\n",
    "# 'data': feature data to determine how to classify the sample, given in np array\n",
    "# 'target': target data (ie: is the tumor malignant or benign), given in np array\n",
    "# 'feature_names': names of the columns in data\n",
    "# 'target_names': names of the target columns\n",
    "\n",
    "training_set = data.data\n",
    "print(training_set.shape) # (569, 30)"
   ]
  },
  {
   "cell_type": "markdown",
   "metadata": {
    "id": "eGaBh7j64zQc"
   },
   "source": [
    "## 1. Implement k-means\n",
    "- Input: array containing dataset, value of k\n",
    "- Output: cluster centroids, cluster assignment for each data point"
   ]
  },
  {
   "cell_type": "code",
   "execution_count": 46,
   "metadata": {
    "id": "PuXF0fmI5Qtc"
   },
   "outputs": [],
   "source": [
    "def initialize_centroids(training_set, m, k):\n",
    "    # pick k cluster centroids randomly in the training set\n",
    "    # return a 1xk array where each element is at most 569 (aka training_set.shape[0])\n",
    "    # don't allow the same value to be picked multiple times (ie: replace = False)\n",
    "\n",
    "    random_row_indices = np.random.choice(np.shape(training_set)[0], k, replace=False)\n",
    "    centroids = training_set[random_row_indices, :]\n",
    "    return centroids\n",
    "\n",
    "def distance(x, u, m, k):\n",
    "    # squared norm error between a data point x(i) and a centroid u(k)\n",
    "    # ||x(i) - u(k)||^2 = (sqrt((x1(i) - u1(k))^2 + (x2(i) - u2(k))^2 + ...))^2 \n",
    "    #                   = (x1(i) - u1(k))^2 + (x2(i) - u2(k))^2 + ...\n",
    "    distance = np.zeros((m, k))\n",
    "    for i in range(m):\n",
    "        for j in range(k):\n",
    "            distance[i][j] = (np.linalg.norm(x[i] - u[j]))**2 # distance from point x(i) to centroid u(k)\n",
    "\n",
    "    return distance\n",
    "\n",
    "def centroid_assignment(distances):\n",
    "    # based on the squared norm distance from x(i) to u(i), determine which cluster with index k the point x(i) should belong to\n",
    "    # find the min. distance for each point (ie: find the min element in a row of the array)\n",
    "\n",
    "    c = np.empty(distances.shape[0], dtype=np.int8)\n",
    "\n",
    "    for i in range(distances.shape[0]):\n",
    "        smallest_error = np.min(distances[i])\n",
    "        smallest_error_index = np.argwhere(distances[i] == smallest_error)[0][0]\n",
    "        c[i] = smallest_error_index\n",
    "        \n",
    "    return c\n",
    "\n",
    "def move_centroids(centroids, c, training_set, k):\n",
    "    # find all training data indices i for which c[i] is the same (i.e.: the value is k) -> np.argwhere()\n",
    "    # average the values of x[i]\n",
    "    # assign the value to centroid[k]\n",
    "\n",
    "    old_centroids = centroids\n",
    "\n",
    "    for j in range(k):\n",
    "        same_centroid = np.argwhere(c == j)\n",
    "        centroids[j] = np.mean(training_set[same_centroid])\n",
    "\n",
    "    return centroids, old_centroids\n",
    "\n",
    "def should_stop(old_centroids, new_centroids):\n",
    "    # stop if the old cluster centroid assignments are the same as the new cluster centroid assignments\n",
    "    if (old_centroids == new_centroids).all():\n",
    "        return True\n",
    "    else:\n",
    "        return False"
   ]
  },
  {
   "cell_type": "code",
   "execution_count": 7,
   "metadata": {
    "id": "1rlyCyDXXo79"
   },
   "outputs": [],
   "source": [
    "def k_means(training_set, k):\n",
    "    m = training_set.shape[0]\n",
    "\n",
    "    # initialize cluster centroids\n",
    "    centroids = initialize_centroids(training_set, m, k)\n",
    "\n",
    "    old_centroids = np.empty(centroids.shape)\n",
    "    c = np.empty(m)\n",
    "\n",
    "    while not should_stop(old_centroids, centroids): # if no centroid position changed, then the algorithm is complete\n",
    "        \n",
    "        # find the squared norm distance between each data point in the training set and all cluster centroids\n",
    "        distances = distance(training_set, centroids, m, k)\n",
    "\n",
    "        # cluster assignment\n",
    "        c = centroid_assignment(distances)\n",
    "\n",
    "        # move centroids\n",
    "        centroids, old_centroids = move_centroids(centroids, c, training_set, k)\n",
    "\n",
    "    return centroids, c"
   ]
  },
  {
   "cell_type": "code",
   "execution_count": 69,
   "metadata": {
    "colab": {
     "base_uri": "https://localhost:8080/"
    },
    "id": "dcN2sUedBAmd",
    "outputId": "541530ba-bcfa-4088-b5ca-6ad611e0f46c"
   },
   "outputs": [
    {
     "name": "stdout",
     "output_type": "stream",
     "text": [
      "[[0.34555763 0.34555763]\n",
      " [0.59934726 0.59934726]]\n",
      "[1 1 1 1 1 1 1 0 1 0]\n"
     ]
    }
   ],
   "source": [
    "# sanity check to make sure that my k_means implementation returns a result on a trivial dataset\n",
    "test_training_set = np.random.random((10, 2))\n",
    "centroids, cluster_assignment = k_means(test_training_set, 2)\n",
    "print(centroids)\n",
    "print(cluster_assignment)"
   ]
  },
  {
   "cell_type": "markdown",
   "metadata": {
    "id": "hBtnZTvYgytI"
   },
   "source": [
    "## 2. Run k-means algorithm for k varying between 2 and 7"
   ]
  },
  {
   "cell_type": "markdown",
   "metadata": {
    "id": "5nOfM2_5z36A"
   },
   "source": [
    "Inputs Justification\n",
    "- training_set: a 569 x 30 NumPy array containing 569 data points, where each data point has 30 features\n",
    "- k: the number of clusters to form"
   ]
  },
  {
   "cell_type": "code",
   "execution_count": 73,
   "metadata": {
    "colab": {
     "base_uri": "https://localhost:8080/"
    },
    "id": "CL--RjUngyOw",
    "outputId": "7de3dcfb-1e79-4af0-efa4-90c4659b664a"
   },
   "outputs": [
    {
     "name": "stdout",
     "output_type": "stream",
     "text": [
      "When k = 2, the centroids are:\n",
      "[[102.383255   102.383255   102.383255   102.383255   102.383255\n",
      "  102.383255   102.383255   102.383255   102.383255   102.383255\n",
      "  102.383255   102.383255   102.383255   102.383255   102.383255\n",
      "  102.383255   102.383255   102.383255   102.383255   102.383255\n",
      "  102.383255   102.383255   102.383255   102.383255   102.383255\n",
      "  102.383255   102.383255   102.383255   102.383255   102.383255  ]\n",
      " [ 43.30567353  43.30567353  43.30567353  43.30567353  43.30567353\n",
      "   43.30567353  43.30567353  43.30567353  43.30567353  43.30567353\n",
      "   43.30567353  43.30567353  43.30567353  43.30567353  43.30567353\n",
      "   43.30567353  43.30567353  43.30567353  43.30567353  43.30567353\n",
      "   43.30567353  43.30567353  43.30567353  43.30567353  43.30567353\n",
      "   43.30567353  43.30567353  43.30567353  43.30567353  43.30567353]]\n",
      "\n",
      "and the cluster assignments are:\n",
      "[0 0 0 1 0 1 0 1 1 1 0 0 0 0 1 0 0 0 0 1 1 1 0 0 0 0 1 0 0 0 0 1 0 0 0 0 1\n",
      " 1 1 1 1 1 0 1 1 0 1 1 1 1 1 1 1 0 0 1 0 0 1 1 1 1 0 1 1 0 1 1 1 1 0 1 0 1\n",
      " 1 0 1 0 0 1 1 1 0 0 1 0 1 0 1 1 1 1 1 1 0 0 1 1 1 1 1 1 1 1 1 1 1 1 0 1 1\n",
      " 1 1 1 1 1 1 0 0 0 1 0 0 1 1 1 1 0 1 0 1 0 0 0 0 1 1 1 0 1 1 0 1 1 1 1 1 1\n",
      " 1 1 1 1 1 1 1 1 0 0 1 1 1 0 0 1 0 1 1 0 0 1 1 0 0 1 1 1 1 0 1 1 0 0 0 1 0\n",
      " 1 0 1 1 1 1 1 1 1 1 1 1 0 0 0 1 0 0 0 1 0 1 0 1 0 0 1 0 0 1 1 1 1 0 0 1 1\n",
      " 1 0 1 1 1 1 1 1 0 1 1 0 1 1 0 0 1 0 1 1 1 1 0 1 1 1 1 1 0 1 0 0 0 1 0 0 0\n",
      " 0 0 0 0 0 0 0 1 1 1 1 1 1 0 1 0 1 1 0 1 1 0 1 0 0 1 1 1 1 1 1 1 1 1 1 1 1\n",
      " 1 1 1 1 0 1 0 1 1 1 1 1 1 1 1 1 1 1 1 1 1 0 1 1 1 0 1 0 1 1 1 1 0 0 0 1 1\n",
      " 1 1 0 1 0 1 0 1 1 1 0 1 1 1 1 1 1 1 0 0 0 1 1 1 1 1 1 1 1 1 0 1 0 0 1 0 0\n",
      " 0 1 0 0 1 0 1 1 1 1 1 1 1 1 1 1 1 1 1 0 1 1 0 0 1 1 1 1 1 1 0 1 1 1 1 1 0\n",
      " 1 0 1 1 1 1 1 0 1 1 0 1 1 1 1 1 1 1 1 1 1 1 1 1 1 0 0 1 1 1 1 1 1 1 0 1 1\n",
      " 0 1 0 1 1 0 1 0 1 1 1 1 1 1 1 1 0 0 1 1 1 1 1 1 0 1 1 1 0 1 1 1 1 1 1 0 1\n",
      " 1 1 1 1 1 1 0 1 0 1 0 0 1 1 1 1 1 0 0 1 1 1 0 1 1 1 1 0 0 1 1 1 1 0 1 0 0\n",
      " 1 1 1 0 1 1 1 1 1 1 1 1 1 1 1 0 1 0 1 1 1 1 1 1 1 1 1 1 1 1 1 1 1 1 1 1 1\n",
      " 1 1 1 1 1 1 1 0 0 0 0 0 0 1]\n",
      "\n",
      "\n",
      "When k = 3, the centroids are:\n",
      "[[ 61.19327621  61.19327621  61.19327621  61.19327621  61.19327621\n",
      "   61.19327621  61.19327621  61.19327621  61.19327621  61.19327621\n",
      "   61.19327621  61.19327621  61.19327621  61.19327621  61.19327621\n",
      "   61.19327621  61.19327621  61.19327621  61.19327621  61.19327621\n",
      "   61.19327621  61.19327621  61.19327621  61.19327621  61.19327621\n",
      "   61.19327621  61.19327621  61.19327621  61.19327621  61.19327621]\n",
      " [ 37.6360866   37.6360866   37.6360866   37.6360866   37.6360866\n",
      "   37.6360866   37.6360866   37.6360866   37.6360866   37.6360866\n",
      "   37.6360866   37.6360866   37.6360866   37.6360866   37.6360866\n",
      "   37.6360866   37.6360866   37.6360866   37.6360866   37.6360866\n",
      "   37.6360866   37.6360866   37.6360866   37.6360866   37.6360866\n",
      "   37.6360866   37.6360866   37.6360866   37.6360866   37.6360866 ]\n",
      " [117.65983209 117.65983209 117.65983209 117.65983209 117.65983209\n",
      "  117.65983209 117.65983209 117.65983209 117.65983209 117.65983209\n",
      "  117.65983209 117.65983209 117.65983209 117.65983209 117.65983209\n",
      "  117.65983209 117.65983209 117.65983209 117.65983209 117.65983209\n",
      "  117.65983209 117.65983209 117.65983209 117.65983209 117.65983209\n",
      "  117.65983209 117.65983209 117.65983209 117.65983209 117.65983209]]\n",
      "\n",
      "and the cluster assignments are:\n",
      "[2 2 2 1 2 0 2 0 0 0 0 2 2 0 0 0 0 2 2 0 1 1 0 2 2 2 0 2 0 2 2 0 2 2 0 0 0\n",
      " 1 0 0 0 1 2 0 0 2 1 0 1 0 1 0 1 2 0 1 2 0 1 1 1 1 0 1 0 0 1 1 1 1 2 1 2 0\n",
      " 1 0 1 2 2 1 1 1 2 2 1 2 0 2 1 0 0 0 0 0 0 2 1 1 1 0 0 1 1 1 1 0 1 1 2 1 1\n",
      " 1 0 1 1 1 1 0 0 2 1 2 2 0 0 0 0 2 0 2 1 0 0 0 2 1 1 1 0 1 1 0 1 1 1 1 1 0\n",
      " 0 0 1 1 1 1 0 1 2 0 1 1 1 2 2 1 2 0 1 2 2 0 1 0 0 1 1 1 1 0 1 1 2 2 0 1 0\n",
      " 1 2 1 1 1 0 1 1 0 0 1 0 2 2 0 1 2 2 0 1 0 1 0 1 0 2 1 2 0 0 0 1 1 2 2 0 0\n",
      " 1 0 0 0 1 0 1 0 0 1 1 2 1 0 2 2 0 2 0 1 1 0 2 1 1 1 1 1 2 1 2 0 2 0 2 0 0\n",
      " 0 2 0 2 0 2 2 1 0 1 1 0 1 2 1 2 1 1 2 0 0 2 1 2 0 1 1 1 1 1 1 0 0 1 1 1 0\n",
      " 1 1 0 1 2 1 2 1 1 1 1 1 0 0 1 0 1 1 1 1 1 2 1 1 1 2 1 2 1 1 0 1 0 0 0 1 1\n",
      " 1 1 2 1 2 1 2 0 1 1 2 1 1 1 0 1 1 1 0 2 0 1 1 1 0 1 1 1 1 1 0 0 2 2 1 2 2\n",
      " 0 0 2 2 0 0 1 0 0 1 1 1 1 1 1 0 1 0 1 2 1 1 2 2 1 0 0 1 1 1 2 1 1 1 1 1 0\n",
      " 1 2 1 1 1 1 0 0 1 1 2 1 1 1 0 1 0 1 1 1 1 1 1 0 1 2 2 0 0 1 0 0 0 1 2 0 1\n",
      " 2 1 2 0 0 2 1 2 1 0 1 0 1 1 1 1 2 2 0 1 0 0 0 1 2 1 1 1 0 1 1 1 0 0 1 0 1\n",
      " 0 0 0 0 1 0 2 1 0 1 0 2 1 0 0 1 1 2 2 0 0 1 2 1 1 1 1 0 0 1 0 0 0 0 1 2 2\n",
      " 1 1 1 2 1 0 1 1 0 1 0 1 1 1 0 2 1 2 0 1 1 1 1 0 0 1 0 0 1 1 1 1 1 1 1 1 1\n",
      " 1 1 1 0 1 0 1 0 2 2 2 0 2 1]\n",
      "\n",
      "\n",
      "When k = 4, the centroids are:\n",
      "[[85.40329874 85.40329874 85.40329874 85.40329874 85.40329874 85.40329874\n",
      "  85.40329874 85.40329874 85.40329874 85.40329874 85.40329874 85.40329874\n",
      "  85.40329874 85.40329874 85.40329874 85.40329874 85.40329874 85.40329874\n",
      "  85.40329874 85.40329874 85.40329874 85.40329874 85.40329874 85.40329874\n",
      "  85.40329874 85.40329874 85.40329874 85.40329874 85.40329874 85.40329874]\n",
      " [44.41552379 44.41552379 44.41552379 44.41552379 44.41552379 44.41552379\n",
      "  44.41552379 44.41552379 44.41552379 44.41552379 44.41552379 44.41552379\n",
      "  44.41552379 44.41552379 44.41552379 44.41552379 44.41552379 44.41552379\n",
      "  44.41552379 44.41552379 44.41552379 44.41552379 44.41552379 44.41552379\n",
      "  44.41552379 44.41552379 44.41552379 44.41552379 44.41552379 44.41552379]\n",
      " [27.73752449 27.73752449 27.73752449 27.73752449 27.73752449 27.73752449\n",
      "  27.73752449 27.73752449 27.73752449 27.73752449 27.73752449 27.73752449\n",
      "  27.73752449 27.73752449 27.73752449 27.73752449 27.73752449 27.73752449\n",
      "  27.73752449 27.73752449 27.73752449 27.73752449 27.73752449 27.73752449\n",
      "  27.73752449 27.73752449 27.73752449 27.73752449 27.73752449 27.73752449]\n",
      " [36.39977611 36.39977611 36.39977611 36.39977611 36.39977611 36.39977611\n",
      "  36.39977611 36.39977611 36.39977611 36.39977611 36.39977611 36.39977611\n",
      "  36.39977611 36.39977611 36.39977611 36.39977611 36.39977611 36.39977611\n",
      "  36.39977611 36.39977611 36.39977611 36.39977611 36.39977611 36.39977611\n",
      "  36.39977611 36.39977611 36.39977611 36.39977611 36.39977611 36.39977611]]\n",
      "\n",
      "and the cluster assignments are:\n",
      "[0 0 0 1 0 1 0 0 0 1 0 0 0 0 0 0 0 0 0 0 1 2 0 0 0 0 0 0 0 0 0 0 0 0 0 0 0\n",
      " 1 0 0 0 3 0 0 0 0 2 0 1 0 1 1 1 0 0 3 0 0 1 2 2 2 0 2 0 0 2 3 2 1 0 2 0 0\n",
      " 1 0 1 0 0 1 1 1 0 0 1 0 0 0 1 0 0 0 0 0 0 0 1 2 1 0 0 2 1 2 2 0 1 1 0 1 2\n",
      " 1 0 2 2 1 2 0 0 0 3 0 0 0 1 0 0 0 0 0 1 0 0 0 0 1 1 3 0 3 2 0 3 1 3 1 1 0\n",
      " 0 0 1 2 2 3 1 1 0 0 1 3 1 0 0 1 0 0 3 0 0 0 1 0 0 3 2 2 2 0 1 1 0 0 0 3 0\n",
      " 2 0 1 3 1 0 1 2 0 0 1 0 0 0 0 1 0 0 0 1 0 2 0 1 0 0 1 0 0 0 0 1 2 0 0 0 0\n",
      " 2 0 0 0 2 0 1 1 0 3 3 0 2 0 0 0 0 0 0 1 3 0 0 2 1 1 3 3 0 3 0 0 0 0 0 0 0\n",
      " 0 0 0 0 0 0 0 3 1 1 2 0 3 0 2 0 3 3 0 0 0 0 1 0 0 1 1 1 1 3 3 0 0 1 1 1 1\n",
      " 2 1 0 2 0 1 0 2 3 3 1 2 0 1 3 0 1 3 2 1 1 0 2 1 2 0 1 0 1 1 0 1 0 0 0 1 3\n",
      " 3 1 0 1 0 2 0 0 2 3 0 1 2 1 0 3 3 1 0 0 0 3 1 1 0 2 2 1 1 1 0 1 0 0 1 0 0\n",
      " 0 0 0 0 1 0 2 1 1 3 3 3 1 1 1 0 1 0 3 0 2 2 0 0 1 0 1 1 3 1 0 1 1 1 1 3 0\n",
      " 1 0 1 1 3 2 0 0 1 2 0 1 3 1 0 3 0 2 2 3 3 3 1 0 1 0 0 0 0 1 0 0 0 3 0 0 2\n",
      " 0 1 0 0 0 0 1 0 1 0 1 0 1 1 1 2 0 0 0 3 1 0 1 2 0 1 2 1 0 1 3 1 0 0 3 0 1\n",
      " 0 1 0 0 1 0 0 1 0 1 0 0 1 1 0 1 1 0 0 0 0 1 0 2 2 1 3 0 0 3 0 0 0 0 3 0 0\n",
      " 1 1 2 0 3 0 2 2 0 1 1 1 1 1 0 0 3 0 0 3 2 2 3 0 0 1 0 0 2 2 2 3 3 3 1 2 1\n",
      " 2 2 2 0 3 0 3 0 0 0 0 0 0 2]\n",
      "\n",
      "\n",
      "When k = 5, the centroids are:\n",
      "[[ 48.83476885  48.83476885  48.83476885  48.83476885  48.83476885\n",
      "   48.83476885  48.83476885  48.83476885  48.83476885  48.83476885\n",
      "   48.83476885  48.83476885  48.83476885  48.83476885  48.83476885\n",
      "   48.83476885  48.83476885  48.83476885  48.83476885  48.83476885\n",
      "   48.83476885  48.83476885  48.83476885  48.83476885  48.83476885\n",
      "   48.83476885  48.83476885  48.83476885  48.83476885  48.83476885]\n",
      " [122.80719362 122.80719362 122.80719362 122.80719362 122.80719362\n",
      "  122.80719362 122.80719362 122.80719362 122.80719362 122.80719362\n",
      "  122.80719362 122.80719362 122.80719362 122.80719362 122.80719362\n",
      "  122.80719362 122.80719362 122.80719362 122.80719362 122.80719362\n",
      "  122.80719362 122.80719362 122.80719362 122.80719362 122.80719362\n",
      "  122.80719362 122.80719362 122.80719362 122.80719362 122.80719362]\n",
      " [ 28.10108098  28.10108098  28.10108098  28.10108098  28.10108098\n",
      "   28.10108098  28.10108098  28.10108098  28.10108098  28.10108098\n",
      "   28.10108098  28.10108098  28.10108098  28.10108098  28.10108098\n",
      "   28.10108098  28.10108098  28.10108098  28.10108098  28.10108098\n",
      "   28.10108098  28.10108098  28.10108098  28.10108098  28.10108098\n",
      "   28.10108098  28.10108098  28.10108098  28.10108098  28.10108098]\n",
      " [ 89.33356711  89.33356711  89.33356711  89.33356711  89.33356711\n",
      "   89.33356711  89.33356711  89.33356711  89.33356711  89.33356711\n",
      "   89.33356711  89.33356711  89.33356711  89.33356711  89.33356711\n",
      "   89.33356711  89.33356711  89.33356711  89.33356711  89.33356711\n",
      "   89.33356711  89.33356711  89.33356711  89.33356711  89.33356711\n",
      "   89.33356711  89.33356711  89.33356711  89.33356711  89.33356711]\n",
      " [186.8102775  186.8102775  186.8102775  186.8102775  186.8102775\n",
      "  186.8102775  186.8102775  186.8102775  186.8102775  186.8102775\n",
      "  186.8102775  186.8102775  186.8102775  186.8102775  186.8102775\n",
      "  186.8102775  186.8102775  186.8102775  186.8102775  186.8102775\n",
      "  186.8102775  186.8102775  186.8102775  186.8102775  186.8102775\n",
      "  186.8102775  186.8102775  186.8102775  186.8102775  186.8102775 ]]\n",
      "\n",
      "and the cluster assignments are:\n",
      "[1 1 1 0 1 0 3 0 0 0 3 3 3 0 0 0 3 3 1 0 0 2 0 4 1 3 0 3 3 3 1 0 3 1 3 3 0\n",
      " 0 0 0 0 0 1 0 0 3 2 0 0 0 0 0 0 3 0 0 1 0 0 2 2 2 0 2 0 0 2 0 2 0 1 2 3 0\n",
      " 0 3 0 3 1 0 0 0 4 3 0 3 0 3 0 0 0 0 0 0 0 1 0 2 0 0 0 2 0 2 2 0 0 0 1 0 2\n",
      " 0 0 2 2 0 2 3 3 3 0 3 1 0 0 0 0 3 0 1 0 3 3 0 3 0 0 0 0 0 2 3 0 0 0 0 0 0\n",
      " 0 0 0 2 2 0 0 0 3 3 0 0 0 3 1 0 1 0 2 3 3 0 0 0 3 2 2 2 2 0 0 0 4 1 3 0 0\n",
      " 2 3 0 0 0 0 0 2 0 0 0 0 3 1 0 0 3 1 3 0 0 2 3 0 0 1 0 4 3 0 0 0 2 1 1 0 0\n",
      " 2 3 0 0 2 0 0 0 3 0 0 1 2 0 4 1 0 3 0 0 0 0 3 2 0 0 0 0 1 0 1 3 1 0 1 0 3\n",
      " 0 1 3 3 0 3 4 2 0 0 2 0 0 1 2 3 0 0 3 0 0 1 0 1 3 0 0 0 0 0 0 0 0 0 0 0 0\n",
      " 2 0 0 2 1 0 1 2 0 0 0 2 0 0 0 0 0 0 2 0 0 3 2 0 2 1 0 1 0 0 0 0 3 0 3 0 0\n",
      " 0 0 3 0 1 2 4 0 2 0 3 0 2 0 0 0 0 0 0 4 0 0 0 0 0 2 2 0 0 0 3 0 1 1 0 4 1\n",
      " 3 0 1 1 0 0 2 0 0 0 0 0 0 0 0 0 0 0 0 3 2 2 3 1 0 0 0 0 0 0 3 0 0 0 0 0 0\n",
      " 0 3 0 0 0 2 0 0 0 2 3 0 0 0 0 0 0 2 2 0 0 0 0 0 0 3 3 0 0 0 0 0 0 0 3 0 2\n",
      " 3 0 3 0 0 1 0 3 0 0 0 0 0 0 0 2 3 4 0 0 0 0 0 2 3 0 2 0 0 0 0 0 0 0 0 0 0\n",
      " 0 0 0 0 0 0 1 0 3 0 3 3 0 0 0 0 0 3 1 0 0 0 4 2 2 0 0 0 0 0 0 0 0 0 0 3 1\n",
      " 0 0 2 4 0 0 2 2 0 0 0 0 0 0 0 1 2 1 0 0 2 2 0 0 0 0 0 0 2 2 2 0 2 0 0 2 0\n",
      " 2 2 2 0 0 0 0 0 1 1 1 3 1 2]\n",
      "\n",
      "\n",
      "When k = 6, the centroids are:\n",
      "[[22.94176427 22.94176427 22.94176427 22.94176427 22.94176427 22.94176427\n",
      "  22.94176427 22.94176427 22.94176427 22.94176427 22.94176427 22.94176427\n",
      "  22.94176427 22.94176427 22.94176427 22.94176427 22.94176427 22.94176427\n",
      "  22.94176427 22.94176427 22.94176427 22.94176427 22.94176427 22.94176427\n",
      "  22.94176427 22.94176427 22.94176427 22.94176427 22.94176427 22.94176427]\n",
      " [78.28404033 78.28404033 78.28404033 78.28404033 78.28404033 78.28404033\n",
      "  78.28404033 78.28404033 78.28404033 78.28404033 78.28404033 78.28404033\n",
      "  78.28404033 78.28404033 78.28404033 78.28404033 78.28404033 78.28404033\n",
      "  78.28404033 78.28404033 78.28404033 78.28404033 78.28404033 78.28404033\n",
      "  78.28404033 78.28404033 78.28404033 78.28404033 78.28404033 78.28404033]\n",
      " [29.92274278 29.92274278 29.92274278 29.92274278 29.92274278 29.92274278\n",
      "  29.92274278 29.92274278 29.92274278 29.92274278 29.92274278 29.92274278\n",
      "  29.92274278 29.92274278 29.92274278 29.92274278 29.92274278 29.92274278\n",
      "  29.92274278 29.92274278 29.92274278 29.92274278 29.92274278 29.92274278\n",
      "  29.92274278 29.92274278 29.92274278 29.92274278 29.92274278 29.92274278]\n",
      " [26.11625438 26.11625438 26.11625438 26.11625438 26.11625438 26.11625438\n",
      "  26.11625438 26.11625438 26.11625438 26.11625438 26.11625438 26.11625438\n",
      "  26.11625438 26.11625438 26.11625438 26.11625438 26.11625438 26.11625438\n",
      "  26.11625438 26.11625438 26.11625438 26.11625438 26.11625438 26.11625438\n",
      "  26.11625438 26.11625438 26.11625438 26.11625438 26.11625438 26.11625438]\n",
      " [61.64276348 61.64276348 61.64276348 61.64276348 61.64276348 61.64276348\n",
      "  61.64276348 61.64276348 61.64276348 61.64276348 61.64276348 61.64276348\n",
      "  61.64276348 61.64276348 61.64276348 61.64276348 61.64276348 61.64276348\n",
      "  61.64276348 61.64276348 61.64276348 61.64276348 61.64276348 61.64276348\n",
      "  61.64276348 61.64276348 61.64276348 61.64276348 61.64276348 61.64276348]\n",
      " [37.93304951 37.93304951 37.93304951 37.93304951 37.93304951 37.93304951\n",
      "  37.93304951 37.93304951 37.93304951 37.93304951 37.93304951 37.93304951\n",
      "  37.93304951 37.93304951 37.93304951 37.93304951 37.93304951 37.93304951\n",
      "  37.93304951 37.93304951 37.93304951 37.93304951 37.93304951 37.93304951\n",
      "  37.93304951 37.93304951 37.93304951 37.93304951 37.93304951 37.93304951]]\n",
      "\n",
      "and the cluster assignments are:\n",
      "[4 1 1 5 1 4 1 4 4 4 1 4 1 1 1 1 4 4 4 1 1 2 1 1 4 1 1 1 4 1 1 4 1 1 1 1 1\n",
      " 1 1 4 4 5 1 4 4 1 0 4 4 1 5 1 5 1 1 5 4 4 1 0 2 0 4 0 4 1 2 5 0 1 1 0 4 4\n",
      " 4 1 1 1 1 4 5 1 1 1 4 1 1 1 4 1 1 1 4 1 1 1 5 2 5 1 4 0 4 2 2 4 5 4 1 5 2\n",
      " 1 1 2 0 4 0 4 4 1 5 1 1 1 1 1 4 1 1 1 4 1 1 1 1 4 5 5 1 5 2 1 5 4 5 5 4 1\n",
      " 1 1 1 0 2 5 1 4 1 1 5 5 5 1 4 4 1 1 5 1 1 1 4 4 1 5 2 0 2 1 1 1 1 1 4 5 1\n",
      " 5 1 5 5 4 1 1 3 4 1 1 1 1 1 4 4 1 1 4 4 1 2 1 1 1 1 5 1 1 1 1 5 2 1 4 1 1\n",
      " 2 1 4 1 2 1 4 4 1 5 5 1 2 1 1 1 1 1 1 1 5 1 1 2 1 4 5 5 1 5 1 1 1 1 1 1 1\n",
      " 1 1 1 1 1 1 4 5 1 1 2 1 5 1 2 1 5 5 1 1 1 1 5 1 1 1 1 5 1 5 5 1 1 1 5 1 1\n",
      " 2 5 1 2 1 4 1 2 5 5 1 0 1 4 5 1 4 5 0 1 5 1 0 5 2 1 1 1 4 1 1 5 1 1 1 4 5\n",
      " 5 4 1 1 1 2 1 1 2 5 1 5 2 4 1 5 5 5 1 1 1 5 1 1 1 0 2 1 1 1 1 1 1 1 4 4 1\n",
      " 1 1 1 1 1 1 2 1 1 5 5 5 5 4 1 1 5 1 5 1 2 0 4 1 4 1 1 1 5 4 1 4 1 1 1 5 1\n",
      " 1 1 4 5 5 3 1 1 5 2 4 1 5 5 1 5 1 2 2 5 5 5 1 1 5 1 1 1 4 1 1 1 1 5 1 1 2\n",
      " 1 5 1 1 1 1 5 1 5 1 4 1 5 1 1 2 4 1 1 5 4 4 1 2 1 5 2 4 1 1 5 1 1 1 5 1 4\n",
      " 1 1 1 1 4 1 1 5 1 4 1 1 1 1 1 4 4 1 1 1 1 4 1 0 2 5 5 1 1 5 1 4 1 1 5 1 1\n",
      " 4 4 2 1 5 1 2 0 4 4 1 5 5 5 4 1 5 1 1 5 0 0 5 1 1 1 1 1 2 2 2 5 5 5 1 3 1\n",
      " 2 2 2 1 5 1 5 1 1 1 1 1 1 0]\n",
      "\n",
      "\n",
      "When k = 7, the centroids are:\n",
      "[[139.88931028 139.88931028 139.88931028 139.88931028 139.88931028\n",
      "  139.88931028 139.88931028 139.88931028 139.88931028 139.88931028\n",
      "  139.88931028 139.88931028 139.88931028 139.88931028 139.88931028\n",
      "  139.88931028 139.88931028 139.88931028 139.88931028 139.88931028\n",
      "  139.88931028 139.88931028 139.88931028 139.88931028 139.88931028\n",
      "  139.88931028 139.88931028 139.88931028 139.88931028 139.88931028]\n",
      " [ 88.11919405  88.11919405  88.11919405  88.11919405  88.11919405\n",
      "   88.11919405  88.11919405  88.11919405  88.11919405  88.11919405\n",
      "   88.11919405  88.11919405  88.11919405  88.11919405  88.11919405\n",
      "   88.11919405  88.11919405  88.11919405  88.11919405  88.11919405\n",
      "   88.11919405  88.11919405  88.11919405  88.11919405  88.11919405\n",
      "   88.11919405  88.11919405  88.11919405  88.11919405  88.11919405]\n",
      " [ 32.78241703  32.78241703  32.78241703  32.78241703  32.78241703\n",
      "   32.78241703  32.78241703  32.78241703  32.78241703  32.78241703\n",
      "   32.78241703  32.78241703  32.78241703  32.78241703  32.78241703\n",
      "   32.78241703  32.78241703  32.78241703  32.78241703  32.78241703\n",
      "   32.78241703  32.78241703  32.78241703  32.78241703  32.78241703\n",
      "   32.78241703  32.78241703  32.78241703  32.78241703  32.78241703]\n",
      " [105.0584809  105.0584809  105.0584809  105.0584809  105.0584809\n",
      "  105.0584809  105.0584809  105.0584809  105.0584809  105.0584809\n",
      "  105.0584809  105.0584809  105.0584809  105.0584809  105.0584809\n",
      "  105.0584809  105.0584809  105.0584809  105.0584809  105.0584809\n",
      "  105.0584809  105.0584809  105.0584809  105.0584809  105.0584809\n",
      "  105.0584809  105.0584809  105.0584809  105.0584809  105.0584809 ]\n",
      " [ 44.45441121  44.45441121  44.45441121  44.45441121  44.45441121\n",
      "   44.45441121  44.45441121  44.45441121  44.45441121  44.45441121\n",
      "   44.45441121  44.45441121  44.45441121  44.45441121  44.45441121\n",
      "   44.45441121  44.45441121  44.45441121  44.45441121  44.45441121\n",
      "   44.45441121  44.45441121  44.45441121  44.45441121  44.45441121\n",
      "   44.45441121  44.45441121  44.45441121  44.45441121  44.45441121]\n",
      " [ 59.07451655  59.07451655  59.07451655  59.07451655  59.07451655\n",
      "   59.07451655  59.07451655  59.07451655  59.07451655  59.07451655\n",
      "   59.07451655  59.07451655  59.07451655  59.07451655  59.07451655\n",
      "   59.07451655  59.07451655  59.07451655  59.07451655  59.07451655\n",
      "   59.07451655  59.07451655  59.07451655  59.07451655  59.07451655\n",
      "   59.07451655  59.07451655  59.07451655  59.07451655  59.07451655]\n",
      " [110.8387494  110.8387494  110.8387494  110.8387494  110.8387494\n",
      "  110.8387494  110.8387494  110.8387494  110.8387494  110.8387494\n",
      "  110.8387494  110.8387494  110.8387494  110.8387494  110.8387494\n",
      "  110.8387494  110.8387494  110.8387494  110.8387494  110.8387494\n",
      "  110.8387494  110.8387494  110.8387494  110.8387494  110.8387494\n",
      "  110.8387494  110.8387494  110.8387494  110.8387494  110.8387494 ]]\n",
      "\n",
      "and the cluster assignments are:\n",
      "[0 0 0 4 6 5 3 5 5 4 1 1 1 5 5 5 5 1 0 5 4 2 5 0 0 1 5 1 1 1 3 5 1 0 1 1 5\n",
      " 4 5 5 5 2 3 5 5 3 2 5 4 5 2 5 4 1 5 2 0 5 4 2 2 2 5 2 5 5 2 2 2 4 0 2 3 5\n",
      " 4 1 4 3 6 4 2 4 0 1 4 3 5 3 4 5 5 5 5 5 5 0 2 2 2 5 5 2 4 2 2 5 2 4 0 2 2\n",
      " 4 5 2 2 4 2 5 1 1 2 3 0 5 4 5 5 1 5 6 4 1 1 5 3 4 4 2 5 2 2 1 2 4 2 2 4 5\n",
      " 5 5 4 2 2 2 5 4 1 5 4 2 4 1 0 4 0 5 2 1 3 5 4 5 5 2 2 2 2 5 4 4 0 0 1 2 5\n",
      " 2 1 2 2 4 5 4 2 5 5 4 5 1 3 5 4 1 0 5 4 5 2 1 4 5 6 4 0 1 5 5 4 2 0 0 5 5\n",
      " 2 5 5 5 2 5 4 5 1 2 2 0 2 5 0 0 5 1 5 4 2 5 1 2 4 4 2 2 0 2 0 1 0 5 0 5 1\n",
      " 5 0 1 1 5 1 0 2 5 4 2 5 2 0 2 1 2 2 1 5 5 3 4 3 5 4 4 4 4 2 2 5 5 4 2 4 5\n",
      " 2 4 5 2 0 4 0 2 2 2 4 2 5 4 2 5 4 2 2 4 4 1 2 4 2 6 4 0 4 4 5 4 1 5 5 4 2\n",
      " 2 4 1 4 0 2 0 5 2 2 6 2 2 4 5 2 2 4 5 0 5 2 4 4 5 2 2 4 4 4 5 4 0 0 4 0 0\n",
      " 1 5 6 0 5 5 2 5 5 2 2 2 2 4 4 5 4 5 2 1 2 2 1 0 4 5 5 4 2 4 1 4 4 4 4 2 5\n",
      " 4 1 4 2 2 2 5 5 2 2 3 4 2 2 5 2 5 2 2 2 2 2 4 5 4 6 3 5 5 4 5 5 5 2 1 5 2\n",
      " 1 2 1 5 5 0 2 1 4 5 4 5 2 4 4 2 3 0 5 2 5 5 5 2 1 2 2 4 5 4 2 4 5 5 2 5 4\n",
      " 5 4 5 5 4 5 0 4 1 4 1 1 4 4 5 4 4 3 0 5 5 4 0 2 2 4 2 5 5 2 5 5 5 5 2 1 6\n",
      " 4 4 2 0 2 5 2 2 5 4 5 4 4 4 5 6 2 0 5 2 2 2 2 5 5 4 5 5 2 2 2 2 2 2 4 2 4\n",
      " 2 2 2 5 2 5 2 5 0 0 0 1 0 2]\n",
      "\n",
      "\n"
     ]
    }
   ],
   "source": [
    "for k in range(2, 8):\n",
    "    centroids, cluster_assignment = k_means(training_set, k)\n",
    "    print(\"When k = %d, the centroids are:\" % k)\n",
    "    print(centroids)\n",
    "    print(\"\\nand the cluster assignments are:\")\n",
    "    print(cluster_assignment)\n",
    "    print(\"\\n\")"
   ]
  },
  {
   "cell_type": "markdown",
   "metadata": {
    "id": "w6llP5hE5-8A"
   },
   "source": [
    "## 3. Plot k-means distortion for values of k ranging between 2 and 7, inclusive"
   ]
  },
  {
   "cell_type": "code",
   "execution_count": 10,
   "metadata": {
    "id": "jaYaKuea6Alq"
   },
   "outputs": [],
   "source": [
    "def k_means_distortion(training_set, c, centroids):\n",
    "    num_points = training_set.shape[0]\n",
    "\n",
    "    errors_sum = 0\n",
    "    for i in range(num_points):\n",
    "        errors_sum += (np.linalg.norm(training_set[i] - centroids[c[i]]))**2\n",
    "        \n",
    "    error = errors_sum / num_points\n",
    "    \n",
    "    return error"
   ]
  },
  {
   "cell_type": "code",
   "execution_count": 74,
   "metadata": {
    "colab": {
     "base_uri": "https://localhost:8080/"
    },
    "id": "cBmD7qoB6CBa",
    "outputId": "723c9019-c2f3-4daa-87aa-33304d23067f"
   },
   "outputs": [
    {
     "name": "stdout",
     "output_type": "stream",
     "text": [
      "0.0791460526993732\n"
     ]
    }
   ],
   "source": [
    "# sanity check to check that my k_means_distortion implementation returns a result\n",
    "centroids, cluster_assignment = k_means(test_training_set, 3)\n",
    "error = k_means_distortion(test_training_set, cluster_assignment, centroids)\n",
    "print(error)"
   ]
  },
  {
   "cell_type": "code",
   "execution_count": 80,
   "metadata": {
    "colab": {
     "base_uri": "https://localhost:8080/",
     "height": 430
    },
    "id": "Wi8qJ4iL07W6",
    "outputId": "1b6bd2a1-87ab-4c6a-bf86-e0d9dce2161d"
   },
   "outputs": [
    {
     "name": "stdout",
     "output_type": "stream",
     "text": [
      "k | error\n",
      "--|------\n",
      "2 | 1553464\n",
      "3 | 1537651\n",
      "4 | 1533850\n",
      "5 | 1535432\n",
      "6 | 1533366\n",
      "7 | 1532029\n"
     ]
    },
    {
     "data": {
      "image/png": "[encoded data removed]",
      "text/plain": [
       "<Figure size 432x288 with 1 Axes>"
      ]
     },
     "metadata": {
      "needs_background": "light"
     },
     "output_type": "display_data"
    }
   ],
   "source": [
    "x_axis = np.arange(2, 8, 1) # values of k\n",
    "y_axis = np.empty(x_axis.shape)\n",
    "\n",
    "print(\"k | error\")\n",
    "print(\"--|------\")\n",
    "for k in range(2, 8):\n",
    "    centroids, cluster_assignment = k_means(training_set, k=k)\n",
    "    error = k_means_distortion(training_set, cluster_assignment, centroids)\n",
    "    y_axis[k-2] = error\n",
    "    print(\"%d | %d\" % (k, error))\n",
    "\n",
    "plt.plot(x_axis, y_axis)\n",
    "plt.xlabel('Number of centroids, K')\n",
    "plt.ylabel('Distortion, J')\n",
    "plt.title(\"K-Means clustering distortion vs. the number of cluster centriods\")\n",
    "plt.show()"
   ]
  },
  {
   "cell_type": "markdown",
   "metadata": {
    "id": "1m_sN8hE5lUM"
   },
   "source": [
    "## 4. Picking a value for K\n",
    "\n",
    "Pick k = 7\n",
    "\n",
    "This is the value of k for which the k-means algorithm has the lowest distortion. As such, the data points are clustered most optimally when the data is grouped into 7 clusters. "
   ]
  }
 ],
 "metadata": {
  "colab": {
   "collapsed_sections": [],
   "name": "Actual Working Version of Assignment1.ipynb",
   "provenance": []
  },
  "kernelspec": {
   "display_name": "Python 3",
   "language": "python",
   "name": "python3"
  },
  "language_info": {
   "codemirror_mode": {
    "name": "ipython",
    "version": 3
   },
   "file_extension": ".py",
   "mimetype": "text/x-python",
   "name": "python",
   "nbconvert_exporter": "python",
   "pygments_lexer": "ipython3",
   "version": "3.8.8"
  }
 },
 "nbformat": 4,
 "nbformat_minor": 1
}
